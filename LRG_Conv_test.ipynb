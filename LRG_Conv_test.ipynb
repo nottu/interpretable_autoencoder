{
 "cells": [
  {
   "cell_type": "code",
   "execution_count": 1,
   "metadata": {},
   "outputs": [],
   "source": [
    "import os\n",
    "import sys\n",
    "import time\n",
    "\n",
    "import argparse\n",
    "import numpy as np\n",
    "import torch\n",
    "import torch.nn as nn\n",
    "import torch.nn.functional as F\n",
    "import torch.optim as optim\n",
    "import torchvision\n",
    "\n",
    "from tqdm import tqdm_notebook as tqdm\n",
    "\n",
    "from matplotlib import pyplot as plt\n",
    "from scipy.ndimage.interpolation import rotate as sc_rotate\n",
    "from torchvision import datasets, transforms\n",
    "from scipy.optimize import curve_fit, least_squares, minimize"
   ]
  },
  {
   "cell_type": "code",
   "execution_count": 2,
   "metadata": {},
   "outputs": [],
   "source": [
    "from radioreader import *\n",
    "from methods import *\n",
    "from kittler import kittler_float"
   ]
  },
  {
   "cell_type": "code",
   "execution_count": 3,
   "metadata": {},
   "outputs": [],
   "source": [
    "directory = 'unlrg'\n",
    "ext = 'fits'\n",
    "names = glob.glob('{0}/*.{1}*'.format(directory, ext))"
   ]
  },
  {
   "cell_type": "code",
   "execution_count": 4,
   "metadata": {},
   "outputs": [
    {
     "data": {
      "application/vnd.jupyter.widget-view+json": {
       "model_id": "8094d322404d4f7caecc00c9969bee71",
       "version_major": 2,
       "version_minor": 0
      },
      "text/plain": [
       "HBox(children=(IntProgress(value=0, max=14245), HTML(value='')))"
      ]
     },
     "metadata": {},
     "output_type": "display_data"
    },
    {
     "name": "stdout",
     "output_type": "stream",
     "text": [
      "\n"
     ]
    }
   ],
   "source": [
    "images = []\n",
    "for n in tqdm(range(len(names))):\n",
    "    im = readImg(names[n], normalize=True, sz=128)\n",
    "    k = kittler_float(im, copy=False)\n",
    "    images.append( np.expand_dims(k, axis=0) )\n",
    "    del im\n",
    "    del k\n",
    "# images = np.array(images)"
   ]
  },
  {
   "cell_type": "code",
   "execution_count": 5,
   "metadata": {},
   "outputs": [
    {
     "data": {
      "text/plain": [
       "torch.Size([14245, 1, 128, 128])"
      ]
     },
     "execution_count": 5,
     "metadata": {},
     "output_type": "execute_result"
    }
   ],
   "source": [
    "im_tensor = torch.tensor(images)\n",
    "im_tensor.shape"
   ]
  },
  {
   "cell_type": "code",
   "execution_count": 6,
   "metadata": {},
   "outputs": [
    {
     "name": "stdout",
     "output_type": "stream",
     "text": [
      "cuda\n",
      "torch.Size([14245, 1, 128, 128])\n",
      "imh, imw =  128 128\n"
     ]
    }
   ],
   "source": [
    "use_cuda = torch.cuda.is_available()\n",
    "torch.manual_seed(1)\n",
    "device = torch.device(\"cuda\" if use_cuda else \"cpu\")\n",
    "print(device)\n",
    "\n",
    "#arguments\n",
    "batch_size = 64\n",
    "test_batch_size = 64\n",
    "\n",
    "ts = list(im_tensor.shape)\n",
    "imh, imw = ts[2], ts[3]\n",
    "print(im_tensor.shape)\n",
    "print('imh, imw = ',imh, imw)\n",
    "\n",
    "epochs = 100\n",
    "learning_rate = 0.001\n",
    "momentum = 0.9 # 'SGD momentum'\n",
    "latent_space=16"
   ]
  },
  {
   "cell_type": "code",
   "execution_count": 7,
   "metadata": {},
   "outputs": [],
   "source": [
    "class AutoEncoder(nn.Module):\n",
    "    def __init__(self, height, width, device):\n",
    "        super(AutoEncoder, self).__init__()\n",
    "\n",
    "        self.height = height\n",
    "        self.width = width\n",
    "        self.device = device\n",
    "\n",
    "        self.feat_sz = (imh - 6) * (imw - 6)\n",
    "        \n",
    "        # Init model layers\n",
    "        self.down1 = nn.Conv2d( 1,  8, 3) #shape -2\n",
    "        self.down2 = nn.Conv2d( 8, 16, 3) #shape -2\n",
    "        self.down3 = nn.Conv2d(16, 16, 3) #shape -2\n",
    "        \n",
    "        self.latentd = nn.Linear(16 * self.feat_sz, 16)\n",
    "        #decoder\n",
    "        self.latentu = nn.Linear(16, self.feat_sz * 16)\n",
    "        \n",
    "        self.up3   = nn.ConvTranspose2d(16, 16, 3)\n",
    "        self.up2   = nn.ConvTranspose2d(16, 8, 3)\n",
    "        self.up1   = nn.ConvTranspose2d(8, 1, 3)\n",
    "        \n",
    "    def encode(self, x, params):\n",
    "        x = F.relu(self.down1(x))\n",
    "        x = F.relu(self.down2(x))\n",
    "        x = F.relu(self.down3(x))\n",
    "        x =  x.view(-1, 16 * (imh - 6) * (imw - 6)) #flatten\n",
    "        x = self.latentd(x)\n",
    "        x = self.feature_transformer(x, params)\n",
    "        return x\n",
    "    \n",
    "    def decode(self, x):\n",
    "        x = self.latentu(x)\n",
    "        x = x.view(-1, 16, (imh - 6), (imw - 6))\n",
    "        x = F.relu(self.up3(x))\n",
    "        x = F.relu(self.up2(x))\n",
    "        x = torch.sigmoid(self.up1(x))\n",
    "        return x\n",
    "\n",
    "    def forward(self, x, params):\n",
    "        return self.decode(self.encode(x, params))\n",
    "    \n",
    "    def feature_transformer(self, input, params):\n",
    "        \"\"\"For now we assume the params are just a single rotation angle\n",
    "\n",
    "        Args:\n",
    "            input: [N,c] tensor, where c = 2*int\n",
    "            params: [N,1] tensor, with values in [0,2*pi)\n",
    "        Returns:\n",
    "            [N,c] tensor\n",
    "        \"\"\"\n",
    "        # First reshape activations into [N,c/2,2,1] matrices\n",
    "        x = input.view(input.size(0),input.size(1)//2,2,1)\n",
    "        # Construct the transformation matrix\n",
    "        sin = torch.sin(params)\n",
    "        cos = torch.cos(params)\n",
    "        transform = torch.cat([sin, -cos, cos, sin], 1)\n",
    "        transform = transform.view(transform.size(0),1,2,2).to(self.device)\n",
    "        # Multiply: broadcasting taken care of automatically\n",
    "        # [N,1,2,2] @ [N,channels/2,2,1]\n",
    "        output = torch.matmul(transform, x)\n",
    "        # Reshape and return\n",
    "        return output.view(input.size())"
   ]
  },
  {
   "cell_type": "code",
   "execution_count": 8,
   "metadata": {},
   "outputs": [],
   "source": [
    "model = AutoEncoder(imh, imw, device).to(device)\n",
    "optimizer = optim.Adam(model.parameters(), lr=learning_rate)"
   ]
  },
  {
   "cell_type": "code",
   "execution_count": 9,
   "metadata": {},
   "outputs": [],
   "source": [
    "def rotate_tensor(input):\n",
    "    \"\"\"Nasty hack to rotate images in a minibatch, this should be parallelized\n",
    "    and set in PyTorch\n",
    "\n",
    "    Args:\n",
    "        input: [N,c,h,w] **numpy** tensor\n",
    "    Returns:\n",
    "        rotated output and angles in radians\n",
    "    \"\"\"\n",
    "    angles = 2*np.pi*np.random.rand(input.shape[0])\n",
    "    angles = angles.astype(np.float32)\n",
    "    outputs = []\n",
    "    for i in range(input.shape[0]):\n",
    "        output = sc_rotate(input[i,...], 180*angles[i]/np.pi, axes=(1,2), reshape=False)\n",
    "        outputs.append(output)\n",
    "    return np.stack(outputs, 0), angles"
   ]
  },
  {
   "cell_type": "code",
   "execution_count": 10,
   "metadata": {},
   "outputs": [],
   "source": [
    "def train(model, device, train_loader, optimizer, epoch, log_interval=10):\n",
    "    model.train()\n",
    "    for batch_idx, data in enumerate(train_loader):\n",
    "        # Reshape data\n",
    "        targets, angles = rotate_tensor(data.numpy())\n",
    "        targets = torch.from_numpy(targets).to(device, dtype=torch.float)\n",
    "        angles = torch.from_numpy(angles).to(device)\n",
    "        angles = angles.view(angles.size(0), 1)\n",
    "\n",
    "        # Forward pass\n",
    "        data = data.to(device, dtype=torch.float)\n",
    "        optimizer.zero_grad()\n",
    "        output = model(data, angles)\n",
    "#         print(output.shape, targets.shape)\n",
    "#         return\n",
    "\n",
    "        # Binary cross entropy loss\n",
    "        loss_fnc = nn.BCELoss(reduction='sum')\n",
    "        loss = loss_fnc(output, targets)\n",
    "\n",
    "        # Backprop\n",
    "        loss.backward()\n",
    "        optimizer.step()\n",
    "        if batch_idx % log_interval == 0:\n",
    "            sys.stdout.write('Train Epoch: {} [{}/{} ({:.0f}%)]\\tLoss: {:.6f}\\r'\n",
    "                .format(epoch, batch_idx * len(data), len(train_loader.dataset),\n",
    "                100. * batch_idx / len(train_loader), loss.item()))\n",
    "            sys.stdout.flush()"
   ]
  },
  {
   "cell_type": "code",
   "execution_count": 11,
   "metadata": {
    "scrolled": true
   },
   "outputs": [
    {
     "name": "stdout",
     "output_type": "stream",
     "text": [
      "Train Epoch: 1 [14080/14245 (99%)]\tLoss: 10009.1171880\n",
      " Time: 36.47s\n",
      "Train Epoch: 2 [14080/14245 (99%)]\tLoss: 10158.850586\n",
      " Time: 35.45s\n",
      "Train Epoch: 3 [14080/14245 (99%)]\tLoss: 10092.837891\n",
      " Time: 35.39s\n",
      "Train Epoch: 4 [14080/14245 (99%)]\tLoss: 6920.1894531\n",
      " Time: 35.40s\n",
      "Train Epoch: 5 [14080/14245 (99%)]\tLoss: 9233.6298839\n",
      " Time: 35.43s\n",
      "Train Epoch: 6 [14080/14245 (99%)]\tLoss: 8621.502930\n",
      " Time: 35.42s\n",
      "Train Epoch: 7 [14080/14245 (99%)]\tLoss: 8271.1875009\n",
      " Time: 35.42s\n",
      "Train Epoch: 8 [14080/14245 (99%)]\tLoss: 8080.8974616\n",
      " Time: 35.32s\n",
      "Train Epoch: 9 [14080/14245 (99%)]\tLoss: 6547.7890620\n",
      " Time: 35.28s\n",
      "Train Epoch: 10 [14080/14245 (99%)]\tLoss: 9069.1289062\n",
      " Time: 35.26s\n",
      "Train Epoch: 11 [14080/14245 (99%)]\tLoss: 8061.729492\n",
      " Time: 35.31s\n",
      "Train Epoch: 12 [14080/14245 (99%)]\tLoss: 7319.8256841\n",
      " Time: 35.28s\n",
      "Train Epoch: 13 [14080/14245 (99%)]\tLoss: 6211.3144535\n",
      " Time: 35.30s\n",
      "Train Epoch: 14 [14080/14245 (99%)]\tLoss: 7149.8188484\n",
      " Time: 35.28s\n",
      "Train Epoch: 15 [14080/14245 (99%)]\tLoss: 7398.131348\n",
      " Time: 35.30s\n",
      "Train Epoch: 16 [14080/14245 (99%)]\tLoss: 9546.0332035\n",
      " Time: 35.31s\n",
      "Train Epoch: 17 [14080/14245 (99%)]\tLoss: 7836.6015629\n",
      " Time: 35.27s\n",
      "Train Epoch: 18 [14080/14245 (99%)]\tLoss: 10255.923828\n",
      " Time: 35.26s\n",
      "Train Epoch: 19 [14080/14245 (99%)]\tLoss: 6588.236816\n",
      " Time: 35.25s\n",
      "Train Epoch: 20 [14080/14245 (99%)]\tLoss: 5690.215820\n",
      " Time: 35.28s\n",
      "Train Epoch: 21 [14080/14245 (99%)]\tLoss: 7377.802734\n",
      " Time: 35.28s\n",
      "Train Epoch: 22 [14080/14245 (99%)]\tLoss: 7302.331543\n",
      " Time: 35.08s\n",
      "Train Epoch: 23 [14080/14245 (99%)]\tLoss: 9123.111328\n",
      " Time: 35.04s\n",
      "Train Epoch: 24 [14080/14245 (99%)]\tLoss: 7756.448242\n",
      " Time: 35.16s\n",
      "Train Epoch: 25 [14080/14245 (99%)]\tLoss: 5794.229980\n",
      " Time: 35.28s\n",
      "Train Epoch: 26 [14080/14245 (99%)]\tLoss: 5759.336914\n",
      " Time: 35.33s\n",
      "Train Epoch: 27 [14080/14245 (99%)]\tLoss: 6719.685547\n",
      " Time: 35.33s\n",
      "Train Epoch: 28 [14080/14245 (99%)]\tLoss: 6979.899902\n",
      " Time: 35.30s\n",
      "Train Epoch: 29 [14080/14245 (99%)]\tLoss: 6420.379883\n",
      " Time: 35.31s\n",
      "Train Epoch: 30 [14080/14245 (99%)]\tLoss: 6882.397949\n",
      " Time: 35.34s\n",
      "Train Epoch: 31 [14080/14245 (99%)]\tLoss: 7613.6870120\n",
      " Time: 35.26s\n",
      "Train Epoch: 32 [14080/14245 (99%)]\tLoss: 7534.252930\n",
      " Time: 35.01s\n",
      "Train Epoch: 33 [14080/14245 (99%)]\tLoss: 6951.695312\n",
      " Time: 35.08s\n",
      "Train Epoch: 34 [14080/14245 (99%)]\tLoss: 6438.633301\n",
      " Time: 35.24s\n",
      "Train Epoch: 35 [14080/14245 (99%)]\tLoss: 8015.502441\n",
      " Time: 35.20s\n",
      "Train Epoch: 36 [14080/14245 (99%)]\tLoss: 7520.194336\n",
      " Time: 35.28s\n",
      "Train Epoch: 37 [14080/14245 (99%)]\tLoss: 5917.597168\n",
      " Time: 35.27s\n",
      "Train Epoch: 38 [14080/14245 (99%)]\tLoss: 7502.342285\n",
      " Time: 35.35s\n",
      "Train Epoch: 39 [14080/14245 (99%)]\tLoss: 7288.372070\n",
      " Time: 35.26s\n",
      "Train Epoch: 40 [14080/14245 (99%)]\tLoss: 5625.757324\n",
      " Time: 35.26s\n",
      "Train Epoch: 41 [14080/14245 (99%)]\tLoss: 7257.273438\n",
      " Time: 35.27s\n",
      "Train Epoch: 42 [14080/14245 (99%)]\tLoss: 6687.338867\n",
      " Time: 35.29s\n",
      "Train Epoch: 43 [14080/14245 (99%)]\tLoss: 6782.673340\n",
      " Time: 35.27s\n",
      "Train Epoch: 44 [14080/14245 (99%)]\tLoss: 6940.819824\n",
      " Time: 35.29s\n",
      "Train Epoch: 45 [14080/14245 (99%)]\tLoss: 7519.003906\n",
      " Time: 35.16s\n",
      "Train Epoch: 46 [14080/14245 (99%)]\tLoss: 5529.554199\n",
      " Time: 35.23s\n",
      "Train Epoch: 47 [14080/14245 (99%)]\tLoss: 7606.571289\n",
      " Time: 35.43s\n",
      "Train Epoch: 48 [14080/14245 (99%)]\tLoss: 6724.273438\n",
      " Time: 35.30s\n",
      "Train Epoch: 49 [14080/14245 (99%)]\tLoss: 6336.824707\n",
      " Time: 35.35s\n",
      "Train Epoch: 50 [14080/14245 (99%)]\tLoss: 8004.441406\n",
      " Time: 35.33s\n",
      "Train Epoch: 51 [14080/14245 (99%)]\tLoss: 7233.379883\n",
      " Time: 35.26s\n",
      "Train Epoch: 52 [14080/14245 (99%)]\tLoss: 5713.679688\n",
      " Time: 35.33s\n",
      "Train Epoch: 53 [14080/14245 (99%)]\tLoss: 7856.221680\n",
      " Time: 35.33s\n",
      "Train Epoch: 54 [14080/14245 (99%)]\tLoss: 6830.908691\n",
      " Time: 35.36s\n",
      "Train Epoch: 55 [14080/14245 (99%)]\tLoss: 7136.907715\n",
      " Time: 35.32s\n",
      "Train Epoch: 56 [14080/14245 (99%)]\tLoss: 6346.848633\n",
      " Time: 35.15s\n",
      "Train Epoch: 57 [14080/14245 (99%)]\tLoss: 6466.439453\n",
      " Time: 35.09s\n",
      "Train Epoch: 58 [14080/14245 (99%)]\tLoss: 5710.020020\n",
      " Time: 35.29s\n",
      "Train Epoch: 59 [14080/14245 (99%)]\tLoss: 5647.439941\n",
      " Time: 35.27s\n",
      "Train Epoch: 60 [14080/14245 (99%)]\tLoss: 6676.762695\n",
      " Time: 35.29s\n",
      "Train Epoch: 61 [14080/14245 (99%)]\tLoss: 5847.148926\n",
      " Time: 35.16s\n",
      "Train Epoch: 62 [14080/14245 (99%)]\tLoss: 7451.485840\n",
      " Time: 35.00s\n",
      "Train Epoch: 63 [14080/14245 (99%)]\tLoss: 6999.302246\n",
      " Time: 34.96s\n",
      "Train Epoch: 64 [14080/14245 (99%)]\tLoss: 6359.188477\n",
      " Time: 34.99s\n",
      "Train Epoch: 65 [14080/14245 (99%)]\tLoss: 7095.274414\n",
      " Time: 34.97s\n",
      "Train Epoch: 66 [14080/14245 (99%)]\tLoss: 8394.222656\n",
      " Time: 35.11s\n",
      "Train Epoch: 67 [14080/14245 (99%)]\tLoss: 5080.472168\n",
      " Time: 35.27s\n",
      "Train Epoch: 68 [14080/14245 (99%)]\tLoss: 6647.8828126\n",
      " Time: 35.31s\n",
      "Train Epoch: 69 [14080/14245 (99%)]\tLoss: 6078.8037119\n",
      " Time: 35.27s\n",
      "Train Epoch: 70 [14080/14245 (99%)]\tLoss: 6691.047363\n",
      " Time: 35.29s\n",
      "Train Epoch: 71 [14080/14245 (99%)]\tLoss: 6089.758301\n",
      " Time: 35.25s\n",
      "Train Epoch: 72 [14080/14245 (99%)]\tLoss: 5970.914551\n",
      " Time: 35.37s\n",
      "Train Epoch: 73 [14080/14245 (99%)]\tLoss: 6230.558594\n",
      " Time: 35.31s\n",
      "Train Epoch: 74 [14080/14245 (99%)]\tLoss: 5909.320312\n",
      " Time: 35.31s\n",
      "Train Epoch: 75 [14080/14245 (99%)]\tLoss: 7084.811035\n",
      " Time: 35.28s\n",
      "Train Epoch: 76 [14080/14245 (99%)]\tLoss: 5666.915527\n",
      " Time: 35.30s\n",
      "Train Epoch: 77 [14080/14245 (99%)]\tLoss: 6504.494141\n",
      " Time: 35.26s\n",
      "Train Epoch: 78 [14080/14245 (99%)]\tLoss: 8787.735352\n",
      " Time: 35.26s\n",
      "Train Epoch: 79 [14080/14245 (99%)]\tLoss: 5473.244141\n",
      " Time: 35.30s\n",
      "Train Epoch: 80 [14080/14245 (99%)]\tLoss: 6209.440918\n",
      " Time: 35.25s\n",
      "Train Epoch: 81 [14080/14245 (99%)]\tLoss: 6189.947266\n",
      " Time: 35.24s\n",
      "Train Epoch: 82 [14080/14245 (99%)]\tLoss: 6033.456543\n",
      " Time: 35.33s\n",
      "Train Epoch: 83 [14080/14245 (99%)]\tLoss: 14017.283203\n",
      " Time: 35.28s\n",
      "Train Epoch: 84 [14080/14245 (99%)]\tLoss: 9510.281250\n",
      " Time: 35.28s\n",
      "Train Epoch: 85 [14080/14245 (99%)]\tLoss: 7413.435547\n",
      " Time: 35.30s\n",
      "Train Epoch: 86 [14080/14245 (99%)]\tLoss: 5221.213867\n",
      " Time: 35.26s\n",
      "Train Epoch: 87 [14080/14245 (99%)]\tLoss: 6062.687500\n",
      " Time: 35.25s\n",
      "Train Epoch: 88 [14080/14245 (99%)]\tLoss: 5135.086426\n",
      " Time: 35.22s\n",
      "Train Epoch: 89 [14080/14245 (99%)]\tLoss: 6775.213867\n",
      " Time: 35.34s\n",
      "Train Epoch: 90 [14080/14245 (99%)]\tLoss: 5230.560547\n",
      " Time: 35.28s\n",
      "Train Epoch: 91 [14080/14245 (99%)]\tLoss: 6103.301758\n",
      " Time: 35.30s\n",
      "Train Epoch: 92 [14080/14245 (99%)]\tLoss: 5469.870117\n",
      " Time: 35.31s\n",
      "Train Epoch: 93 [14080/14245 (99%)]\tLoss: 6036.677734\n",
      " Time: 35.32s\n",
      "Train Epoch: 94 [14080/14245 (99%)]\tLoss: 5516.412109\n",
      " Time: 35.56s\n",
      "Train Epoch: 95 [14080/14245 (99%)]\tLoss: 5833.331055\n",
      " Time: 35.51s\n",
      "Train Epoch: 96 [14080/14245 (99%)]\tLoss: 5661.245117\n",
      " Time: 35.36s\n",
      "Train Epoch: 97 [14080/14245 (99%)]\tLoss: 4801.421875\n",
      " Time: 35.29s\n",
      "Train Epoch: 98 [14080/14245 (99%)]\tLoss: 7203.081055\n",
      " Time: 35.35s\n",
      "Train Epoch: 99 [14080/14245 (99%)]\tLoss: 5929.6259772\n",
      " Time: 35.34s\n",
      "Train Epoch: 100 [14080/14245 (99%)]\tLoss: 6830.777344\n",
      " Time: 35.32s\n",
      "CPU times: user 56min 44s, sys: 1min 53s, total: 58min 37s\n",
      "Wall time: 58min 48s\n"
     ]
    }
   ],
   "source": [
    "%%time\n",
    "\n",
    "train_loader = torch.utils.data.DataLoader(im_tensor, batch_size=batch_size, shuffle=True)\n",
    "\n",
    "for epoch in range(1, epochs + 1):\n",
    "    start = time.time()\n",
    "    train(model, device, train_loader, optimizer, epoch)\n",
    "    end = time.time()\n",
    "    sys.stdout.write('\\n Time: {0:.2f}s\\n'.format(end - start))"
   ]
  },
  {
   "cell_type": "code",
   "execution_count": 23,
   "metadata": {},
   "outputs": [
    {
     "data": {
      "image/png": "[encoded data removed]",
      "text/plain": [
       "<Figure size 432x288 with 1 Axes>"
      ]
     },
     "metadata": {
      "needs_background": "light"
     },
     "output_type": "display_data"
    }
   ],
   "source": [
    "l = next(iter(train_loader))\n",
    "l00 = l[:1,:,:]\n",
    "plt.imshow(l00.numpy()[0, 0,:,:], cmap='gray')\n",
    "plt.show()"
   ]
  },
  {
   "cell_type": "code",
   "execution_count": 24,
   "metadata": {},
   "outputs": [],
   "source": [
    "n_rot = 32\n",
    "with torch.no_grad():\n",
    "    angles = torch.linspace(0, 2*np.pi, steps=n_rot)\n",
    "    angles = angles.view(n_rot, 1)\n",
    "\n",
    "    data = l00[0]\n",
    "    data = data.view(data.size(0), -1)\n",
    "    data = data.repeat(n_rot, 1)\n",
    "    data = data.view(-1, 1, imh, imw).to(device, dtype=torch.float)\n",
    "\n",
    "    output = model.encode(data, angles)\n",
    "    output = output.cpu()"
   ]
  },
  {
   "cell_type": "code",
   "execution_count": 25,
   "metadata": {},
   "outputs": [
    {
     "data": {
      "image/png": "[encoded data removed]",
      "text/plain": [
       "<Figure size 1080x432 with 16 Axes>"
      ]
     },
     "metadata": {
      "needs_background": "light"
     },
     "output_type": "display_data"
    }
   ],
   "source": [
    "o_np = output.numpy()\n",
    "f, ax = plt.subplots(4, 4, figsize=(15, 6))\n",
    "for i in range(4): \n",
    "    for j in range(4):\n",
    "        ax[i][j].plot(o_np[:,i*4 + j])"
   ]
  },
  {
   "cell_type": "code",
   "execution_count": 26,
   "metadata": {},
   "outputs": [
    {
     "data": {
      "image/png": "[encoded data removed]",
      "text/plain": [
       "<Figure size 1080x432 with 16 Axes>"
      ]
     },
     "metadata": {
      "needs_background": "light"
     },
     "output_type": "display_data"
    }
   ],
   "source": [
    "with torch.no_grad():\n",
    "    dec = model.decode(output.to(device))\n",
    "    dec = dec.cpu().view(-1,1,imh,imw)\n",
    "d_np = dec.numpy()\n",
    "\n",
    "f, ax = plt.subplots(4, 4, figsize=(15, 6))\n",
    "for i in range(4): \n",
    "    for j in range(4):\n",
    "        ax[i][j].imshow(d_np[2*(i*4 + j),0], cmap='gray')\n",
    "        ax[i][j].axis('off')"
   ]
  },
  {
   "cell_type": "code",
   "execution_count": 16,
   "metadata": {},
   "outputs": [],
   "source": [
    "torch.save(model.state_dict(), 'unlrg_linear_model')"
   ]
  },
  {
   "cell_type": "code",
   "execution_count": null,
   "metadata": {},
   "outputs": [],
   "source": []
  }
 ],
 "metadata": {
  "kernelspec": {
   "display_name": "Python 3",
   "language": "python",
   "name": "python3"
  },
  "language_info": {
   "codemirror_mode": {
    "name": "ipython",
    "version": 3
   },
   "file_extension": ".py",
   "mimetype": "text/x-python",
   "name": "python",
   "nbconvert_exporter": "python",
   "pygments_lexer": "ipython3",
   "version": "3.7.2"
  }
 },
 "nbformat": 4,
 "nbformat_minor": 2
}
