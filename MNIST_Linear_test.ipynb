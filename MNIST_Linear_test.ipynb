{
 "cells": [
  {
   "cell_type": "markdown",
   "metadata": {},
   "source": [
    "Based on https://github.com/deworrall92/interpretable_transformations"
   ]
  },
  {
   "cell_type": "code",
   "execution_count": 1,
   "metadata": {},
   "outputs": [],
   "source": [
    "import os\n",
    "import sys\n",
    "import time\n",
    "\n",
    "import argparse\n",
    "import numpy as np\n",
    "import torch\n",
    "import torch.nn as nn\n",
    "import torch.nn.functional as F\n",
    "import torch.optim as optim\n",
    "import torchvision\n",
    "\n",
    "from matplotlib import pyplot as plt\n",
    "from scipy.ndimage.interpolation import rotate\n",
    "from torchvision import datasets, transforms\n",
    "from scipy.optimize import curve_fit, least_squares, minimize"
   ]
  },
  {
   "cell_type": "code",
   "execution_count": 2,
   "metadata": {},
   "outputs": [],
   "source": [
    "#arguments\n",
    "batch_size = 64\n",
    "test_batch_size = 64\n",
    "\n",
    "epochs = 100\n",
    "learning_rate = 0.001\n",
    "momentum = 0.9 # 'SGD momentum'\n",
    "latent_space=16"
   ]
  },
  {
   "cell_type": "code",
   "execution_count": 3,
   "metadata": {},
   "outputs": [
    {
     "name": "stdout",
     "output_type": "stream",
     "text": [
      "True\n"
     ]
    }
   ],
   "source": [
    "use_cuda = torch.cuda.is_available()\n",
    "print(use_cuda)"
   ]
  },
  {
   "cell_type": "code",
   "execution_count": 4,
   "metadata": {},
   "outputs": [],
   "source": [
    "torch.manual_seed(1)\n",
    "device = torch.device(\"cuda\" if use_cuda else \"cpu\")"
   ]
  },
  {
   "cell_type": "code",
   "execution_count": 5,
   "metadata": {},
   "outputs": [],
   "source": [
    "kwargs = {'num_workers': 1, 'pin_memory': True} if use_cuda else {}\n",
    "\n",
    "img_transform = transforms.Compose([\n",
    "    transforms.ToTensor()\n",
    "])\n",
    "\n",
    "train_loader = torch.utils.data.DataLoader(\n",
    "    datasets.MNIST('../data', train=True, download=True,\n",
    "                   transform=img_transform),\n",
    "    batch_size=batch_size, shuffle=True, **kwargs)\n",
    "test_loader = torch.utils.data.DataLoader(\n",
    "    datasets.MNIST('../data', train=False, \n",
    "                   transform=img_transform),\n",
    "    batch_size=test_batch_size, shuffle=True, **kwargs)"
   ]
  },
  {
   "cell_type": "code",
   "execution_count": 6,
   "metadata": {},
   "outputs": [],
   "source": [
    "class Net(nn.Module):\n",
    "    def __init__(self, height, width, device):\n",
    "        super(Net, self).__init__()\n",
    "\n",
    "        self.height = height\n",
    "        self.width = width\n",
    "        self.device = device\n",
    "\n",
    "        # Init model layers\n",
    "        self.down1 = nn.Linear(self.height*self.width, 600)\n",
    "        self.down2 = nn.Linear(600, 400)\n",
    "        self.down3 = nn.Linear(400, latent_space)\n",
    "        self.up3 = nn.Linear(latent_space, 400)\n",
    "        self.up2 = nn.Linear(400, 600)\n",
    "        self.up1 = nn.Linear(600, self.height*self.width)\n",
    "\n",
    "    def encode(self, x, params):\n",
    "        x = F.relu(self.down1(x))\n",
    "        x = F.relu(self.down2(x))\n",
    "        x = self.down3(x)   # Must be linear layer!\n",
    "        x = self.feature_transformer(x, params)\n",
    "        return x\n",
    "    \n",
    "    def decode(self, x):\n",
    "        x = F.relu(self.up3(x))\n",
    "        x = F.relu(self.up2(x))\n",
    "        return torch.sigmoid(self.up1(x))\n",
    "    \n",
    "    def forward(self, x, params):\n",
    "        x = self.encode(x, params)\n",
    "        return self.decode(x)\n",
    "\n",
    "    def feature_transformer(self, input, params):\n",
    "        \"\"\"For now we assume the params are just a single rotation angle\n",
    "\n",
    "        Args:\n",
    "            input: [N,c] tensor, where c = 2*int\n",
    "            params: [N,1] tensor, with values in [0,2*pi)\n",
    "        Returns:\n",
    "            [N,c] tensor\n",
    "        \"\"\"\n",
    "        # First reshape activations into [N,c/2,2,1] matrices\n",
    "        x = input.view(input.size(0),input.size(1)//2,2,1)\n",
    "        # Construct the transformation matrix\n",
    "        sin = torch.sin(params)\n",
    "        cos = torch.cos(params)\n",
    "        transform = torch.cat([sin, -cos, cos, sin], 1)\n",
    "        transform = transform.view(transform.size(0),1,2,2).to(self.device)\n",
    "        # Multiply: broadcasting taken care of automatically\n",
    "        # [N,1,2,2] @ [N,channels/2,2,1]\n",
    "        output = torch.matmul(transform, x)\n",
    "        # Reshape and return\n",
    "        return output.view(input.size())\n"
   ]
  },
  {
   "cell_type": "code",
   "execution_count": 7,
   "metadata": {},
   "outputs": [],
   "source": [
    "model = Net(28,28, device).to(device)\n",
    "optimizer = optim.Adam(model.parameters(), lr=learning_rate)"
   ]
  },
  {
   "cell_type": "code",
   "execution_count": 8,
   "metadata": {},
   "outputs": [],
   "source": [
    "def rotate_tensor(input):\n",
    "    \"\"\"Nasty hack to rotate images in a minibatch, this should be parallelized\n",
    "    and set in PyTorch\n",
    "\n",
    "    Args:\n",
    "        input: [N,c,h,w] **numpy** tensor\n",
    "    Returns:\n",
    "        rotated output and angles in radians\n",
    "    \"\"\"\n",
    "    angles = 2*np.pi*np.random.rand(input.shape[0])\n",
    "    angles = angles.astype(np.float32)\n",
    "    outputs = []\n",
    "    for i in range(input.shape[0]):\n",
    "        output = rotate(input[i,...], 180*angles[i]/np.pi, axes=(1,2), reshape=False)\n",
    "        outputs.append(output)\n",
    "    return np.stack(outputs, 0), angles"
   ]
  },
  {
   "cell_type": "code",
   "execution_count": 9,
   "metadata": {},
   "outputs": [],
   "source": [
    "def train(model, device, train_loader, optimizer, epoch, log_interval=10):\n",
    "    model.train()\n",
    "    for batch_idx, (data, target) in enumerate(train_loader):\n",
    "        # Reshape data\n",
    "        targets, angles = rotate_tensor(data.numpy())\n",
    "        targets = torch.from_numpy(targets).to(device)\n",
    "        targets = targets.view(targets.size(0), -1)\n",
    "        angles = torch.from_numpy(angles).to(device)\n",
    "        angles = angles.view(angles.size(0), 1)\n",
    "        data = data.view(data.size(0), -1)\n",
    "\n",
    "        # Forward pass\n",
    "        data = data.to(device)\n",
    "        optimizer.zero_grad()\n",
    "        output = model(data, angles)\n",
    "\n",
    "        # Binary cross entropy loss\n",
    "        loss_fnc = nn.BCELoss(reduction='sum')\n",
    "        loss = loss_fnc(output, targets)\n",
    "\n",
    "        # Backprop\n",
    "        loss.backward()\n",
    "        optimizer.step()\n",
    "        if batch_idx % log_interval == 0:\n",
    "            sys.stdout.write('Train Epoch: {} [{}/{} ({:.0f}%)]\\tLoss: {:.6f}\\r'\n",
    "                .format(epoch, batch_idx * len(data), len(train_loader.dataset),\n",
    "                100. * batch_idx / len(train_loader), loss.item()))\n",
    "            sys.stdout.flush()"
   ]
  },
  {
   "cell_type": "code",
   "execution_count": 10,
   "metadata": {},
   "outputs": [],
   "source": [
    "def test(model, device, test_loader, epoch, test_batch_size):\n",
    "    model.eval()\n",
    "    with torch.no_grad():\n",
    "        for data, target in test_loader:\n",
    "            # Reshape data: apply multiple angles to the same minibatch, hence\n",
    "            # repeat\n",
    "            data = data.view(data.size(0), -1)\n",
    "            data = data.repeat(args.test_batch_size,1)\n",
    "\n",
    "            angles = torch.linspace(0, 2*np.pi, steps=args.test_batch_size)\n",
    "            angles = angles.view(args.test_batch_size, 1)\n",
    "            angles = angles.repeat(1, args.test_batch_size)\n",
    "            angles = angles.view(args.test_batch_size**2, 1)\n",
    "\n",
    "            # Forward pass\n",
    "            data = data.to(device)\n",
    "            output = model(data, angles)\n",
    "            break\n",
    "        output = output.cpu()\n",
    "        output = output.view(-1,1,28,28)\n",
    "        save_images(output, epoch)"
   ]
  },
  {
   "cell_type": "code",
   "execution_count": 11,
   "metadata": {
    "scrolled": true
   },
   "outputs": [
    {
     "name": "stdout",
     "output_type": "stream",
     "text": [
      "Train Epoch: 1 [59520/60000 (99%)]\tLoss: 6275.8183590\n",
      "Train Epoch: 2 [59520/60000 (99%)]\tLoss: 5765.940430\n",
      "Train Epoch: 3 [59520/60000 (99%)]\tLoss: 5758.365234\n",
      "Train Epoch: 4 [59520/60000 (99%)]\tLoss: 5831.030273\n",
      "Train Epoch: 5 [59520/60000 (99%)]\tLoss: 5402.896973\n",
      "Train Epoch: 6 [59520/60000 (99%)]\tLoss: 5742.275879\n",
      "Train Epoch: 7 [59520/60000 (99%)]\tLoss: 5293.776855\n",
      "Train Epoch: 8 [59520/60000 (99%)]\tLoss: 5140.505371\n",
      "Train Epoch: 9 [59520/60000 (99%)]\tLoss: 4873.702637\n",
      "Train Epoch: 10 [59520/60000 (99%)]\tLoss: 5080.595215\n",
      "Train Epoch: 11 [59520/60000 (99%)]\tLoss: 4922.449219\n",
      "Train Epoch: 12 [59520/60000 (99%)]\tLoss: 5152.587891\n",
      "Train Epoch: 13 [59520/60000 (99%)]\tLoss: 4718.731445\n",
      "Train Epoch: 14 [59520/60000 (99%)]\tLoss: 4946.002441\n",
      "Train Epoch: 15 [59520/60000 (99%)]\tLoss: 4933.118652\n",
      "Train Epoch: 16 [59520/60000 (99%)]\tLoss: 5118.564453\n",
      "Train Epoch: 17 [59520/60000 (99%)]\tLoss: 4927.437012\n",
      "Train Epoch: 18 [59520/60000 (99%)]\tLoss: 4921.715332\n",
      "Train Epoch: 19 [59520/60000 (99%)]\tLoss: 5024.224121\n",
      "Train Epoch: 20 [59520/60000 (99%)]\tLoss: 4592.710938\n",
      "Train Epoch: 21 [59520/60000 (99%)]\tLoss: 5119.028320\n",
      "Train Epoch: 22 [59520/60000 (99%)]\tLoss: 4983.819824\n",
      "Train Epoch: 23 [59520/60000 (99%)]\tLoss: 4671.291504\n",
      "Train Epoch: 24 [59520/60000 (99%)]\tLoss: 5102.049805\n",
      "Train Epoch: 25 [59520/60000 (99%)]\tLoss: 4988.367676\n",
      "Train Epoch: 26 [59520/60000 (99%)]\tLoss: 5015.002930\n",
      "Train Epoch: 27 [59520/60000 (99%)]\tLoss: 5002.863281\n",
      "Train Epoch: 28 [59520/60000 (99%)]\tLoss: 5176.481445\n",
      "Train Epoch: 29 [59520/60000 (99%)]\tLoss: 4698.062988\n",
      "Train Epoch: 30 [59520/60000 (99%)]\tLoss: 4673.003418\n",
      "Train Epoch: 31 [59520/60000 (99%)]\tLoss: 4678.549805\n",
      "Train Epoch: 32 [59520/60000 (99%)]\tLoss: 4848.986328\n",
      "Train Epoch: 33 [59520/60000 (99%)]\tLoss: 4745.510742\n",
      "Train Epoch: 34 [59520/60000 (99%)]\tLoss: 4944.208008\n",
      "Train Epoch: 35 [59520/60000 (99%)]\tLoss: 4857.833984\n",
      "Train Epoch: 36 [59520/60000 (99%)]\tLoss: 4583.488281\n",
      "Train Epoch: 37 [59520/60000 (99%)]\tLoss: 4827.257324\n",
      "Train Epoch: 38 [59520/60000 (99%)]\tLoss: 4791.590820\n",
      "Train Epoch: 39 [59520/60000 (99%)]\tLoss: 4833.394043\n",
      "Train Epoch: 40 [59520/60000 (99%)]\tLoss: 4891.587402\n",
      "Train Epoch: 41 [59520/60000 (99%)]\tLoss: 4808.331055\n",
      "Train Epoch: 42 [59520/60000 (99%)]\tLoss: 4820.916992\n",
      "Train Epoch: 43 [59520/60000 (99%)]\tLoss: 4947.983398\n",
      "Train Epoch: 44 [59520/60000 (99%)]\tLoss: 4867.739746\n",
      "Train Epoch: 45 [59520/60000 (99%)]\tLoss: 4763.069824\n",
      "Train Epoch: 46 [59520/60000 (99%)]\tLoss: 4413.760742\n",
      "Train Epoch: 47 [59520/60000 (99%)]\tLoss: 4593.238770\n",
      "Train Epoch: 48 [59520/60000 (99%)]\tLoss: 4633.050781\n",
      "Train Epoch: 49 [59520/60000 (99%)]\tLoss: 5106.660645\n",
      "Train Epoch: 50 [59520/60000 (99%)]\tLoss: 4825.783203\n",
      "Train Epoch: 51 [59520/60000 (99%)]\tLoss: 4638.342773\n",
      "Train Epoch: 52 [59520/60000 (99%)]\tLoss: 4407.086426\n",
      "Train Epoch: 53 [59520/60000 (99%)]\tLoss: 4348.219727\n",
      "Train Epoch: 54 [59520/60000 (99%)]\tLoss: 4690.326172\n",
      "Train Epoch: 55 [59520/60000 (99%)]\tLoss: 4721.978516\n",
      "Train Epoch: 56 [59520/60000 (99%)]\tLoss: 4646.890137\n",
      "Train Epoch: 57 [59520/60000 (99%)]\tLoss: 4810.151367\n",
      "Train Epoch: 58 [59520/60000 (99%)]\tLoss: 4598.070801\n",
      "Train Epoch: 59 [59520/60000 (99%)]\tLoss: 4635.745117\n",
      "Train Epoch: 60 [59520/60000 (99%)]\tLoss: 4754.059082\n",
      "Train Epoch: 61 [59520/60000 (99%)]\tLoss: 4207.057617\n",
      "Train Epoch: 62 [59520/60000 (99%)]\tLoss: 4930.864258\n",
      "Train Epoch: 63 [59520/60000 (99%)]\tLoss: 4541.434570\n",
      "Train Epoch: 64 [59520/60000 (99%)]\tLoss: 4493.751953\n",
      "Train Epoch: 65 [59520/60000 (99%)]\tLoss: 4309.989258\n",
      "Train Epoch: 66 [59520/60000 (99%)]\tLoss: 4901.652344\n",
      "Train Epoch: 67 [59520/60000 (99%)]\tLoss: 4826.475098\n",
      "Train Epoch: 68 [59520/60000 (99%)]\tLoss: 4761.100586\n",
      "Train Epoch: 69 [59520/60000 (99%)]\tLoss: 4577.039062\n",
      "Train Epoch: 70 [59520/60000 (99%)]\tLoss: 4773.761719\n",
      "Train Epoch: 71 [59520/60000 (99%)]\tLoss: 4438.250488\n",
      "Train Epoch: 72 [59520/60000 (99%)]\tLoss: 4497.789062\n",
      "Train Epoch: 73 [59520/60000 (99%)]\tLoss: 4421.239258\n",
      "Train Epoch: 74 [59520/60000 (99%)]\tLoss: 4505.704102\n",
      "Train Epoch: 75 [59520/60000 (99%)]\tLoss: 4857.475586\n",
      "Train Epoch: 76 [59520/60000 (99%)]\tLoss: 4676.923340\n",
      "Train Epoch: 77 [59520/60000 (99%)]\tLoss: 4507.084961\n",
      "Train Epoch: 78 [59520/60000 (99%)]\tLoss: 4639.479980\n",
      "Train Epoch: 79 [59520/60000 (99%)]\tLoss: 4181.809082\n",
      "Train Epoch: 80 [59520/60000 (99%)]\tLoss: 4748.206543\n",
      "Train Epoch: 81 [59520/60000 (99%)]\tLoss: 4696.191895\n",
      "Train Epoch: 82 [59520/60000 (99%)]\tLoss: 4723.525391\n",
      "Train Epoch: 83 [59520/60000 (99%)]\tLoss: 4559.308105\n",
      "Train Epoch: 84 [59520/60000 (99%)]\tLoss: 4880.087402\n",
      "Train Epoch: 85 [59520/60000 (99%)]\tLoss: 4357.809082\n",
      "Train Epoch: 86 [59520/60000 (99%)]\tLoss: 4742.337402\n",
      "Train Epoch: 87 [59520/60000 (99%)]\tLoss: 4677.726562\n",
      "Train Epoch: 88 [59520/60000 (99%)]\tLoss: 4506.106934\n",
      "Train Epoch: 89 [59520/60000 (99%)]\tLoss: 4451.457031\n",
      "Train Epoch: 90 [59520/60000 (99%)]\tLoss: 4169.295898\n",
      "Train Epoch: 91 [59520/60000 (99%)]\tLoss: 4576.816895\n",
      "Train Epoch: 92 [59520/60000 (99%)]\tLoss: 4337.548340\n",
      "Train Epoch: 93 [59520/60000 (99%)]\tLoss: 4709.383301\n",
      "Train Epoch: 94 [59520/60000 (99%)]\tLoss: 4545.390137\n",
      "Train Epoch: 95 [59520/60000 (99%)]\tLoss: 4377.362305\n",
      "Train Epoch: 96 [59520/60000 (99%)]\tLoss: 4548.652832\n",
      "Train Epoch: 97 [59520/60000 (99%)]\tLoss: 4712.827148\n",
      "Train Epoch: 98 [59520/60000 (99%)]\tLoss: 4662.324219\n",
      "Train Epoch: 99 [59520/60000 (99%)]\tLoss: 4433.806641\n",
      "Train Epoch: 100 [59520/60000 (99%)]\tLoss: 4790.939453\n"
     ]
    }
   ],
   "source": [
    "for epoch in range(1, epochs + 1):\n",
    "    train(model, device, train_loader, optimizer, epoch)\n",
    "    sys.stdout.write('\\n')"
   ]
  },
  {
   "cell_type": "code",
   "execution_count": 12,
   "metadata": {},
   "outputs": [],
   "source": [
    "l = next(iter(test_loader))"
   ]
  },
  {
   "cell_type": "code",
   "execution_count": 13,
   "metadata": {},
   "outputs": [
    {
     "data": {
      "text/plain": [
       "<matplotlib.image.AxesImage at 0x7f4ec784f4e0>"
      ]
     },
     "execution_count": 13,
     "metadata": {},
     "output_type": "execute_result"
    },
    {
     "data": {
      "image/png": "[encoded data removed]",
      "text/plain": [
       "<Figure size 432x288 with 1 Axes>"
      ]
     },
     "metadata": {
      "needs_background": "light"
     },
     "output_type": "display_data"
    }
   ],
   "source": [
    "l00 = l[0][:1,:,:]\n",
    "plt.imshow(l00.numpy()[0, 0,:,:], cmap='gray')"
   ]
  },
  {
   "cell_type": "code",
   "execution_count": 14,
   "metadata": {},
   "outputs": [],
   "source": [
    "n_rot = 10\n",
    "with torch.no_grad():\n",
    "    angles = torch.linspace(0, 2*np.pi, steps=n_rot)\n",
    "    angles = angles.view(n_rot, 1)\n",
    "\n",
    "    data = l00[0]\n",
    "    data = data.view(data.size(0), -1)\n",
    "    data = data.repeat(n_rot, 1)\n",
    "    data = data.to(device)\n",
    "\n",
    "    output = model(data, angles)\n",
    "    output = output.cpu()\n",
    "    output = output.view(-1,1,28,28)"
   ]
  },
  {
   "cell_type": "code",
   "execution_count": 15,
   "metadata": {},
   "outputs": [
    {
     "data": {
      "text/plain": [
       "(10, 1, 28, 28)"
      ]
     },
     "execution_count": 15,
     "metadata": {},
     "output_type": "execute_result"
    }
   ],
   "source": [
    "output.numpy().shape"
   ]
  },
  {
   "cell_type": "code",
   "execution_count": 16,
   "metadata": {},
   "outputs": [
    {
     "data": {
      "text/plain": [
       "<matplotlib.image.AxesImage at 0x7f4ec77b52b0>"
      ]
     },
     "execution_count": 16,
     "metadata": {},
     "output_type": "execute_result"
    },
    {
     "data": {
      "image/png": "[encoded data removed]",
      "text/plain": [
       "<Figure size 432x288 with 1 Axes>"
      ]
     },
     "metadata": {
      "needs_background": "light"
     },
     "output_type": "display_data"
    }
   ],
   "source": [
    "plt.imshow(output.numpy()[0,0], cmap='gray')"
   ]
  },
  {
   "cell_type": "code",
   "execution_count": 17,
   "metadata": {},
   "outputs": [],
   "source": [
    "n_rot = 32\n",
    "with torch.no_grad():\n",
    "    angles = torch.linspace(0, 2*np.pi, steps=n_rot)\n",
    "    angles = angles.view(n_rot, 1)\n",
    "\n",
    "    data = l00[0]\n",
    "    data = data.view(data.size(0), -1)\n",
    "    data = data.repeat(n_rot, 1)\n",
    "    data = data.to(device)\n",
    "\n",
    "    output = model.encode(data, angles)\n",
    "    output = output.cpu()\n",
    "#     output = output.view(-1,1,28,28)"
   ]
  },
  {
   "cell_type": "code",
   "execution_count": 18,
   "metadata": {},
   "outputs": [],
   "source": [
    "o_np = output.numpy()"
   ]
  },
  {
   "cell_type": "code",
   "execution_count": 26,
   "metadata": {},
   "outputs": [
    {
     "data": {
      "image/png": "[encoded data removed]",
      "text/plain": [
       "<Figure size 1080x432 with 16 Axes>"
      ]
     },
     "metadata": {
      "needs_background": "light"
     },
     "output_type": "display_data"
    }
   ],
   "source": [
    "f, ax = plt.subplots(4, 4, figsize=(15, 6))\n",
    "for i in range(4): \n",
    "    for j in range(4):\n",
    "        ax[i][j].plot(o_np[:,i*4 + j])"
   ]
  },
  {
   "cell_type": "markdown",
   "metadata": {},
   "source": [
    "Each output seems to come from a $\\sin$ function"
   ]
  },
  {
   "cell_type": "code",
   "execution_count": 20,
   "metadata": {},
   "outputs": [],
   "source": [
    "with torch.no_grad():\n",
    "    dec = model.decode(output.to(device))\n",
    "    dec = dec.cpu().view(-1,1,28,28)"
   ]
  },
  {
   "cell_type": "code",
   "execution_count": 21,
   "metadata": {},
   "outputs": [],
   "source": [
    "d_np = dec.numpy()"
   ]
  },
  {
   "cell_type": "code",
   "execution_count": 25,
   "metadata": {},
   "outputs": [
    {
     "data": {
      "image/png": "[encoded data removed]",
      "text/plain": [
       "<Figure size 1080x432 with 16 Axes>"
      ]
     },
     "metadata": {
      "needs_background": "light"
     },
     "output_type": "display_data"
    }
   ],
   "source": [
    "f, ax = plt.subplots(4, 4, figsize=(15, 6))\n",
    "for i in range(4): \n",
    "    for j in range(4):\n",
    "        ax[i][j].imshow(d_np[2*(i*4 + j),0], cmap='gray')\n",
    "        ax[i][j].axis('off')"
   ]
  },
  {
   "cell_type": "code",
   "execution_count": 23,
   "metadata": {},
   "outputs": [],
   "source": [
    "torch.save(model.state_dict(), 'mnist_linear_model')"
   ]
  },
  {
   "cell_type": "code",
   "execution_count": 24,
   "metadata": {},
   "outputs": [
    {
     "data": {
      "text/plain": [
       "Net(\n",
       "  (down1): Linear(in_features=784, out_features=600, bias=True)\n",
       "  (down2): Linear(in_features=600, out_features=400, bias=True)\n",
       "  (down3): Linear(in_features=400, out_features=16, bias=True)\n",
       "  (up3): Linear(in_features=16, out_features=400, bias=True)\n",
       "  (up2): Linear(in_features=400, out_features=600, bias=True)\n",
       "  (up1): Linear(in_features=600, out_features=784, bias=True)\n",
       ")"
      ]
     },
     "execution_count": 24,
     "metadata": {},
     "output_type": "execute_result"
    }
   ],
   "source": [
    "l_model = Net(28,28, device).to(device)\n",
    "l_model.load_state_dict(torch.load('mnist_linear_model'))\n",
    "l_model.eval()"
   ]
  }
 ],
 "metadata": {
  "kernelspec": {
   "display_name": "Python 3",
   "language": "python",
   "name": "python3"
  },
  "language_info": {
   "codemirror_mode": {
    "name": "ipython",
    "version": 3
   },
   "file_extension": ".py",
   "mimetype": "text/x-python",
   "name": "python",
   "nbconvert_exporter": "python",
   "pygments_lexer": "ipython3",
   "version": "3.7.2"
  }
 },
 "nbformat": 4,
 "nbformat_minor": 2
}
