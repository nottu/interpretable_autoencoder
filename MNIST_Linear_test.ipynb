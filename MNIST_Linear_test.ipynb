{
 "cells": [
  {
   "cell_type": "markdown",
   "metadata": {},
   "source": [
    "Based on https://github.com/deworrall92/interpretable_transformations"
   ]
  },
  {
   "cell_type": "code",
   "execution_count": 1,
   "metadata": {},
   "outputs": [],
   "source": [
    "import os\n",
    "import sys\n",
    "import time\n",
    "\n",
    "import argparse\n",
    "import numpy as np\n",
    "import torch\n",
    "import torch.nn as nn\n",
    "import torch.nn.functional as F\n",
    "import torch.optim as optim\n",
    "import torchvision\n",
    "\n",
    "from matplotlib import pyplot as plt\n",
    "from scipy.ndimage.interpolation import rotate\n",
    "from torchvision import datasets, transforms\n",
    "from scipy.optimize import curve_fit, least_squares, minimize"
   ]
  },
  {
   "cell_type": "code",
   "execution_count": 2,
   "metadata": {},
   "outputs": [],
   "source": [
    "#arguments\n",
    "batch_size = 64\n",
    "test_batch_size = 64\n",
    "\n",
    "epochs = 100\n",
    "learning_rate = 0.001\n",
    "momentum = 0.9 # 'SGD momentum'\n",
    "latent_space=16"
   ]
  },
  {
   "cell_type": "code",
   "execution_count": 3,
   "metadata": {},
   "outputs": [
    {
     "name": "stdout",
     "output_type": "stream",
     "text": [
      "True\n"
     ]
    }
   ],
   "source": [
    "use_cuda = torch.cuda.is_available()\n",
    "print(use_cuda)"
   ]
  },
  {
   "cell_type": "code",
   "execution_count": 4,
   "metadata": {},
   "outputs": [],
   "source": [
    "torch.manual_seed(1)\n",
    "device = torch.device(\"cuda\" if use_cuda else \"cpu\")"
   ]
  },
  {
   "cell_type": "code",
   "execution_count": 5,
   "metadata": {},
   "outputs": [],
   "source": [
    "kwargs = {'num_workers': 1, 'pin_memory': True} if use_cuda else {}\n",
    "\n",
    "img_transform = transforms.Compose([\n",
    "    transforms.ToTensor()\n",
    "])\n",
    "\n",
    "train_loader = torch.utils.data.DataLoader(\n",
    "    datasets.MNIST('../data', train=True, download=True,\n",
    "                   transform=img_transform),\n",
    "    batch_size=batch_size, shuffle=True, **kwargs)\n",
    "test_loader = torch.utils.data.DataLoader(\n",
    "    datasets.MNIST('../data', train=False, \n",
    "                   transform=img_transform),\n",
    "    batch_size=test_batch_size, shuffle=True, **kwargs)"
   ]
  },
  {
   "cell_type": "code",
   "execution_count": 6,
   "metadata": {},
   "outputs": [],
   "source": [
    "class Net(nn.Module):\n",
    "    def __init__(self, height, width, device):\n",
    "        super(Net, self).__init__()\n",
    "\n",
    "        self.height = height\n",
    "        self.width = width\n",
    "        self.device = device\n",
    "\n",
    "        # Init model layers\n",
    "        self.down1 = nn.Linear(self.height*self.width, 600)\n",
    "        self.down2 = nn.Linear(600, 400)\n",
    "        self.down3 = nn.Linear(400, latent_space)\n",
    "        self.up3 = nn.Linear(latent_space, 400)\n",
    "        self.up2 = nn.Linear(400, 600)\n",
    "        self.up1 = nn.Linear(600, self.height*self.width)\n",
    "\n",
    "    def encode(self, x, params):\n",
    "        x = F.relu(self.down1(x))\n",
    "        x = F.relu(self.down2(x))\n",
    "        x = self.down3(x)   # Must be linear layer!\n",
    "        x = self.feature_transformer(x, params)\n",
    "        return x\n",
    "    \n",
    "    def decode(self, x):\n",
    "        x = F.relu(self.up3(x))\n",
    "        x = F.relu(self.up2(x))\n",
    "        return torch.sigmoid(self.up1(x))\n",
    "    \n",
    "    def forward(self, x, params):\n",
    "        x = self.encode(x, params)\n",
    "        return self.decode(x)\n",
    "\n",
    "    def feature_transformer(self, input, params):\n",
    "        \"\"\"For now we assume the params are just a single rotation angle\n",
    "\n",
    "        Args:\n",
    "            input: [N,c] tensor, where c = 2*int\n",
    "            params: [N,1] tensor, with values in [0,2*pi)\n",
    "        Returns:\n",
    "            [N,c] tensor\n",
    "        \"\"\"\n",
    "        # First reshape activations into [N,c/2,2,1] matrices\n",
    "        x = input.view(input.size(0),input.size(1)//2,2,1)\n",
    "        # Construct the transformation matrix\n",
    "        sin = torch.sin(params)\n",
    "        cos = torch.cos(params)\n",
    "        transform = torch.cat([sin, -cos, cos, sin], 1)\n",
    "        transform = transform.view(transform.size(0),1,2,2).to(self.device)\n",
    "        # Multiply: broadcasting taken care of automatically\n",
    "        # [N,1,2,2] @ [N,channels/2,2,1]\n",
    "        output = torch.matmul(transform, x)\n",
    "        # Reshape and return\n",
    "        return output.view(input.size())\n"
   ]
  },
  {
   "cell_type": "code",
   "execution_count": 7,
   "metadata": {},
   "outputs": [],
   "source": [
    "model = Net(28,28, device).to(device)\n",
    "optimizer = optim.Adam(model.parameters(), lr=learning_rate)"
   ]
  },
  {
   "cell_type": "code",
   "execution_count": 8,
   "metadata": {},
   "outputs": [],
   "source": [
    "def rotate_tensor(input):\n",
    "    \"\"\"Nasty hack to rotate images in a minibatch, this should be parallelized\n",
    "    and set in PyTorch\n",
    "\n",
    "    Args:\n",
    "        input: [N,c,h,w] **numpy** tensor\n",
    "    Returns:\n",
    "        rotated output and angles in radians\n",
    "    \"\"\"\n",
    "    angles = 2*np.pi*np.random.rand(input.shape[0])\n",
    "    angles = angles.astype(np.float32)\n",
    "    outputs = []\n",
    "    for i in range(input.shape[0]):\n",
    "        output = rotate(input[i,...], 180*angles[i]/np.pi, axes=(1,2), reshape=False)\n",
    "        outputs.append(output)\n",
    "    return np.stack(outputs, 0), angles"
   ]
  },
  {
   "cell_type": "code",
   "execution_count": 9,
   "metadata": {},
   "outputs": [],
   "source": [
    "def train(model, device, train_loader, optimizer, epoch, log_interval=10):\n",
    "    model.train()\n",
    "    for batch_idx, (data, target) in enumerate(train_loader):\n",
    "        # Reshape data\n",
    "        targets, angles = rotate_tensor(data.numpy())\n",
    "        targets = torch.from_numpy(targets).to(device)\n",
    "        targets = targets.view(targets.size(0), -1)\n",
    "        angles = torch.from_numpy(angles).to(device)\n",
    "        angles = angles.view(angles.size(0), 1)\n",
    "        data = data.view(data.size(0), -1)\n",
    "\n",
    "        # Forward pass\n",
    "        data = data.to(device)\n",
    "        optimizer.zero_grad()\n",
    "        output = model(data, angles)\n",
    "\n",
    "        # Binary cross entropy loss\n",
    "        loss_fnc = nn.BCELoss(reduction='sum')\n",
    "        loss = loss_fnc(output, targets)\n",
    "\n",
    "        # Backprop\n",
    "        loss.backward()\n",
    "        optimizer.step()\n",
    "        if batch_idx % log_interval == 0:\n",
    "            sys.stdout.write('Train Epoch: {} [{}/{} ({:.0f}%)]\\tLoss: {:.6f}\\r'\n",
    "                .format(epoch, batch_idx * len(data), len(train_loader.dataset),\n",
    "                100. * batch_idx / len(train_loader), loss.item()))\n",
    "            sys.stdout.flush()"
   ]
  },
  {
   "cell_type": "code",
   "execution_count": 10,
   "metadata": {},
   "outputs": [],
   "source": [
    "def test(model, device, test_loader, epoch, test_batch_size):\n",
    "    model.eval()\n",
    "    with torch.no_grad():\n",
    "        for data, target in test_loader:\n",
    "            # Reshape data: apply multiple angles to the same minibatch, hence\n",
    "            # repeat\n",
    "            data = data.view(data.size(0), -1)\n",
    "            data = data.repeat(args.test_batch_size,1)\n",
    "\n",
    "            angles = torch.linspace(0, 2*np.pi, steps=args.test_batch_size)\n",
    "            angles = angles.view(args.test_batch_size, 1)\n",
    "            angles = angles.repeat(1, args.test_batch_size)\n",
    "            angles = angles.view(args.test_batch_size**2, 1)\n",
    "\n",
    "            # Forward pass\n",
    "            data = data.to(device)\n",
    "            output = model(data, angles)\n",
    "            break\n",
    "        output = output.cpu()\n",
    "        output = output.view(-1,1,28,28)\n",
    "        save_images(output, epoch)"
   ]
  },
  {
   "cell_type": "code",
   "execution_count": 11,
   "metadata": {
    "scrolled": true
   },
   "outputs": [
    {
     "name": "stdout",
     "output_type": "stream",
     "text": [
      "Train Epoch: 1 [59520/60000 (99%)]\tLoss: 6484.1235358\n",
      " Time: 12.80s\n",
      "Train Epoch: 2 [59520/60000 (99%)]\tLoss: 5828.065430\n",
      " Time: 12.69s\n",
      "Train Epoch: 3 [59520/60000 (99%)]\tLoss: 5889.049805\n",
      " Time: 13.06s\n",
      "Train Epoch: 4 [59520/60000 (99%)]\tLoss: 5834.352539\n",
      " Time: 13.49s\n",
      "Train Epoch: 5 [59520/60000 (99%)]\tLoss: 5444.874023\n",
      " Time: 13.61s\n",
      "Train Epoch: 6 [59520/60000 (99%)]\tLoss: 5817.968262\n",
      " Time: 13.22s\n",
      "Train Epoch: 7 [59520/60000 (99%)]\tLoss: 5309.741211\n",
      " Time: 13.25s\n",
      "Train Epoch: 8 [59520/60000 (99%)]\tLoss: 5148.474609\n",
      " Time: 13.00s\n",
      "Train Epoch: 9 [59520/60000 (99%)]\tLoss: 4787.881348\n",
      " Time: 12.69s\n",
      "Train Epoch: 10 [59520/60000 (99%)]\tLoss: 5028.865723\n",
      " Time: 12.68s\n",
      "Train Epoch: 11 [59520/60000 (99%)]\tLoss: 4977.590820\n",
      " Time: 12.56s\n",
      "Train Epoch: 12 [59520/60000 (99%)]\tLoss: 5138.061523\n",
      " Time: 12.98s\n",
      "Train Epoch: 13 [59520/60000 (99%)]\tLoss: 4775.676758\n",
      " Time: 12.97s\n",
      "Train Epoch: 14 [59520/60000 (99%)]\tLoss: 4942.398926\n",
      " Time: 13.02s\n",
      "Train Epoch: 15 [59520/60000 (99%)]\tLoss: 4918.806641\n",
      " Time: 13.14s\n",
      "Train Epoch: 16 [59520/60000 (99%)]\tLoss: 5110.651855\n",
      " Time: 12.95s\n",
      "Train Epoch: 17 [59520/60000 (99%)]\tLoss: 4960.476562\n",
      " Time: 13.21s\n",
      "Train Epoch: 18 [59520/60000 (99%)]\tLoss: 4958.688477\n",
      " Time: 13.13s\n",
      "Train Epoch: 19 [59520/60000 (99%)]\tLoss: 5078.391602\n",
      " Time: 13.19s\n",
      "Train Epoch: 20 [59520/60000 (99%)]\tLoss: 4634.930664\n",
      " Time: 13.11s\n",
      "Train Epoch: 21 [59520/60000 (99%)]\tLoss: 5157.518066\n",
      " Time: 13.33s\n",
      "Train Epoch: 22 [59520/60000 (99%)]\tLoss: 4998.573242\n",
      " Time: 13.07s\n",
      "Train Epoch: 23 [59520/60000 (99%)]\tLoss: 4688.743652\n",
      " Time: 12.83s\n",
      "Train Epoch: 24 [59520/60000 (99%)]\tLoss: 5097.168457\n",
      " Time: 13.17s\n",
      "Train Epoch: 25 [59520/60000 (99%)]\tLoss: 4983.509766\n",
      " Time: 12.99s\n",
      "Train Epoch: 26 [59520/60000 (99%)]\tLoss: 5020.951660\n",
      " Time: 13.07s\n",
      "Train Epoch: 27 [59520/60000 (99%)]\tLoss: 5077.549316\n",
      " Time: 12.99s\n",
      "Train Epoch: 28 [59520/60000 (99%)]\tLoss: 5164.773438\n",
      " Time: 13.00s\n",
      "Train Epoch: 29 [59520/60000 (99%)]\tLoss: 4730.041992\n",
      " Time: 12.72s\n",
      "Train Epoch: 30 [59520/60000 (99%)]\tLoss: 4755.282227\n",
      " Time: 12.88s\n",
      "Train Epoch: 31 [59520/60000 (99%)]\tLoss: 4687.287598\n",
      " Time: 12.91s\n",
      "Train Epoch: 32 [59520/60000 (99%)]\tLoss: 4896.680176\n",
      " Time: 13.05s\n",
      "Train Epoch: 33 [59520/60000 (99%)]\tLoss: 4788.538086\n",
      " Time: 13.12s\n",
      "Train Epoch: 34 [59520/60000 (99%)]\tLoss: 4913.314453\n",
      " Time: 13.05s\n",
      "Train Epoch: 35 [59520/60000 (99%)]\tLoss: 4850.982422\n",
      " Time: 13.02s\n",
      "Train Epoch: 36 [59520/60000 (99%)]\tLoss: 4648.801758\n",
      " Time: 12.85s\n",
      "Train Epoch: 37 [59520/60000 (99%)]\tLoss: 4797.977051\n",
      " Time: 12.87s\n",
      "Train Epoch: 38 [59520/60000 (99%)]\tLoss: 4885.974609\n",
      " Time: 12.82s\n",
      "Train Epoch: 39 [59520/60000 (99%)]\tLoss: 4783.091797\n",
      " Time: 12.97s\n",
      "Train Epoch: 40 [59520/60000 (99%)]\tLoss: 4886.085938\n",
      " Time: 12.68s\n",
      "Train Epoch: 41 [59520/60000 (99%)]\tLoss: 4787.881348\n",
      " Time: 12.87s\n",
      "Train Epoch: 42 [59520/60000 (99%)]\tLoss: 4814.043457\n",
      " Time: 13.08s\n",
      "Train Epoch: 43 [59520/60000 (99%)]\tLoss: 4892.966309\n",
      " Time: 12.88s\n",
      "Train Epoch: 44 [59520/60000 (99%)]\tLoss: 4945.680664\n",
      " Time: 12.98s\n",
      "Train Epoch: 45 [59520/60000 (99%)]\tLoss: 4767.658691\n",
      " Time: 12.96s\n",
      "Train Epoch: 46 [59520/60000 (99%)]\tLoss: 4471.954102\n",
      " Time: 12.67s\n",
      "Train Epoch: 47 [59520/60000 (99%)]\tLoss: 4650.139160\n",
      " Time: 12.94s\n",
      "Train Epoch: 48 [59520/60000 (99%)]\tLoss: 4608.898926\n",
      " Time: 12.67s\n",
      "Train Epoch: 49 [59520/60000 (99%)]\tLoss: 5117.619141\n",
      " Time: 12.71s\n",
      "Train Epoch: 50 [59520/60000 (99%)]\tLoss: 4827.779297\n",
      " Time: 13.32s\n",
      "Train Epoch: 51 [59520/60000 (99%)]\tLoss: 4659.297852\n",
      " Time: 12.90s\n",
      "Train Epoch: 52 [59520/60000 (99%)]\tLoss: 4391.284180\n",
      " Time: 12.79s\n",
      "Train Epoch: 53 [59520/60000 (99%)]\tLoss: 4409.525391\n",
      " Time: 12.83s\n",
      "Train Epoch: 54 [59520/60000 (99%)]\tLoss: 4761.695312\n",
      " Time: 12.63s\n",
      "Train Epoch: 55 [59520/60000 (99%)]\tLoss: 4707.665039\n",
      " Time: 13.01s\n",
      "Train Epoch: 56 [59520/60000 (99%)]\tLoss: 4624.860352\n",
      " Time: 12.96s\n",
      "Train Epoch: 57 [59520/60000 (99%)]\tLoss: 4816.421387\n",
      " Time: 12.99s\n",
      "Train Epoch: 58 [59520/60000 (99%)]\tLoss: 4681.591797\n",
      " Time: 12.83s\n",
      "Train Epoch: 59 [59520/60000 (99%)]\tLoss: 4608.119141\n",
      " Time: 12.70s\n",
      "Train Epoch: 60 [59520/60000 (99%)]\tLoss: 4706.216797\n",
      " Time: 12.79s\n",
      "Train Epoch: 61 [59520/60000 (99%)]\tLoss: 4307.063477\n",
      " Time: 12.83s\n",
      "Train Epoch: 62 [59520/60000 (99%)]\tLoss: 4972.673828\n",
      " Time: 12.88s\n",
      "Train Epoch: 63 [59520/60000 (99%)]\tLoss: 4632.234863\n",
      " Time: 12.80s\n",
      "Train Epoch: 64 [59520/60000 (99%)]\tLoss: 4599.642090\n",
      " Time: 12.97s\n",
      "Train Epoch: 65 [59520/60000 (99%)]\tLoss: 4243.466797\n",
      " Time: 13.22s\n",
      "Train Epoch: 66 [59520/60000 (99%)]\tLoss: 4902.612305\n",
      " Time: 12.72s\n",
      "Train Epoch: 67 [59520/60000 (99%)]\tLoss: 4770.094238\n",
      " Time: 13.03s\n",
      "Train Epoch: 68 [59520/60000 (99%)]\tLoss: 4769.354004\n",
      " Time: 13.11s\n",
      "Train Epoch: 69 [59520/60000 (99%)]\tLoss: 4629.582031\n",
      " Time: 12.82s\n",
      "Train Epoch: 70 [59520/60000 (99%)]\tLoss: 4721.371582\n",
      " Time: 12.95s\n",
      "Train Epoch: 71 [59520/60000 (99%)]\tLoss: 4482.695312\n",
      " Time: 13.32s\n",
      "Train Epoch: 72 [59520/60000 (99%)]\tLoss: 4417.219727\n",
      " Time: 12.73s\n",
      "Train Epoch: 73 [59520/60000 (99%)]\tLoss: 4481.943359\n",
      " Time: 12.92s\n",
      "Train Epoch: 74 [59520/60000 (99%)]\tLoss: 4541.441406\n",
      " Time: 12.65s\n",
      "Train Epoch: 75 [59520/60000 (99%)]\tLoss: 4853.450684\n",
      " Time: 12.58s\n",
      "Train Epoch: 76 [59520/60000 (99%)]\tLoss: 4668.123047\n",
      " Time: 12.71s\n",
      "Train Epoch: 77 [59520/60000 (99%)]\tLoss: 4566.445801\n",
      " Time: 13.09s\n",
      "Train Epoch: 78 [59520/60000 (99%)]\tLoss: 4642.270996\n",
      " Time: 12.63s\n",
      "Train Epoch: 79 [59520/60000 (99%)]\tLoss: 4188.907227\n",
      " Time: 12.52s\n",
      "Train Epoch: 80 [59520/60000 (99%)]\tLoss: 4668.769531\n",
      " Time: 12.55s\n",
      "Train Epoch: 81 [59520/60000 (99%)]\tLoss: 4794.309570\n",
      " Time: 12.91s\n",
      "Train Epoch: 82 [59520/60000 (99%)]\tLoss: 4696.572266\n",
      " Time: 12.59s\n",
      "Train Epoch: 83 [59520/60000 (99%)]\tLoss: 4645.754883\n",
      " Time: 12.46s\n",
      "Train Epoch: 84 [59520/60000 (99%)]\tLoss: 4962.645508\n",
      " Time: 12.57s\n",
      "Train Epoch: 85 [59520/60000 (99%)]\tLoss: 4409.737305\n",
      " Time: 13.34s\n",
      "Train Epoch: 86 [59520/60000 (99%)]\tLoss: 4716.793945\n",
      " Time: 12.92s\n",
      "Train Epoch: 87 [59520/60000 (99%)]\tLoss: 4595.901367\n",
      " Time: 12.90s\n",
      "Train Epoch: 88 [59520/60000 (99%)]\tLoss: 4424.883789\n",
      " Time: 12.67s\n",
      "Train Epoch: 89 [59520/60000 (99%)]\tLoss: 4513.951172\n",
      " Time: 12.52s\n",
      "Train Epoch: 90 [59520/60000 (99%)]\tLoss: 4275.500000\n",
      " Time: 13.00s\n",
      "Train Epoch: 91 [59520/60000 (99%)]\tLoss: 4598.801758\n",
      " Time: 12.98s\n",
      "Train Epoch: 92 [59520/60000 (99%)]\tLoss: 4322.433105\n",
      " Time: 13.49s\n",
      "Train Epoch: 93 [59520/60000 (99%)]\tLoss: 4764.338867\n",
      " Time: 13.35s\n",
      "Train Epoch: 94 [59520/60000 (99%)]\tLoss: 4546.107910\n",
      " Time: 12.92s\n",
      "Train Epoch: 95 [59520/60000 (99%)]\tLoss: 4413.904297\n",
      " Time: 12.95s\n",
      "Train Epoch: 96 [59520/60000 (99%)]\tLoss: 4501.790039\n",
      " Time: 12.55s\n",
      "Train Epoch: 97 [59520/60000 (99%)]\tLoss: 4806.048828\n",
      " Time: 12.53s\n",
      "Train Epoch: 98 [59520/60000 (99%)]\tLoss: 4568.277344\n",
      " Time: 12.69s\n",
      "Train Epoch: 99 [59520/60000 (99%)]\tLoss: 4441.180664\n",
      " Time: 12.73s\n",
      "Train Epoch: 100 [59520/60000 (99%)]\tLoss: 4798.958008\n",
      " Time: 12.63s\n",
      "CPU times: user 21min 45s, sys: 51 s, total: 22min 36s\n",
      "Wall time: 21min 31s\n"
     ]
    }
   ],
   "source": [
    "%%time\n",
    "for epoch in range(1, epochs + 1):\n",
    "    start = time.time()\n",
    "    train(model, device, train_loader, optimizer, epoch)\n",
    "    end = time.time()\n",
    "    sys.stdout.write('\\n Time: {0:.2f}s\\n'.format(end - start))"
   ]
  },
  {
   "cell_type": "code",
   "execution_count": 12,
   "metadata": {},
   "outputs": [],
   "source": [
    "l = next(iter(test_loader))"
   ]
  },
  {
   "cell_type": "code",
   "execution_count": 13,
   "metadata": {},
   "outputs": [
    {
     "data": {
      "text/plain": [
       "<matplotlib.image.AxesImage at 0x7faa327754a8>"
      ]
     },
     "execution_count": 13,
     "metadata": {},
     "output_type": "execute_result"
    },
    {
     "data": {
      "image/png": "[encoded data removed]",
      "text/plain": [
       "<Figure size 432x288 with 1 Axes>"
      ]
     },
     "metadata": {
      "needs_background": "light"
     },
     "output_type": "display_data"
    }
   ],
   "source": [
    "l00 = l[0][:1,:,:]\n",
    "plt.imshow(l00.numpy()[0, 0,:,:], cmap='gray')"
   ]
  },
  {
   "cell_type": "code",
   "execution_count": 14,
   "metadata": {},
   "outputs": [],
   "source": [
    "n_rot = 10\n",
    "with torch.no_grad():\n",
    "    angles = torch.linspace(0, 2*np.pi, steps=n_rot)\n",
    "    angles = angles.view(n_rot, 1)\n",
    "\n",
    "    data = l00[0]\n",
    "    data = data.view(data.size(0), -1)\n",
    "    data = data.repeat(n_rot, 1)\n",
    "    data = data.to(device)\n",
    "\n",
    "    output = model(data, angles)\n",
    "    output = output.cpu()\n",
    "    output = output.view(-1,1,28,28)"
   ]
  },
  {
   "cell_type": "code",
   "execution_count": 15,
   "metadata": {},
   "outputs": [
    {
     "data": {
      "text/plain": [
       "(10, 1, 28, 28)"
      ]
     },
     "execution_count": 15,
     "metadata": {},
     "output_type": "execute_result"
    }
   ],
   "source": [
    "output.numpy().shape"
   ]
  },
  {
   "cell_type": "code",
   "execution_count": 16,
   "metadata": {},
   "outputs": [
    {
     "data": {
      "text/plain": [
       "<matplotlib.image.AxesImage at 0x7faa3281a0b8>"
      ]
     },
     "execution_count": 16,
     "metadata": {},
     "output_type": "execute_result"
    },
    {
     "data": {
      "image/png": "[encoded data removed]",
      "text/plain": [
       "<Figure size 432x288 with 1 Axes>"
      ]
     },
     "metadata": {
      "needs_background": "light"
     },
     "output_type": "display_data"
    }
   ],
   "source": [
    "plt.imshow(output.numpy()[0,0], cmap='gray')"
   ]
  },
  {
   "cell_type": "code",
   "execution_count": 17,
   "metadata": {},
   "outputs": [],
   "source": [
    "n_rot = 32\n",
    "with torch.no_grad():\n",
    "    angles = torch.linspace(0, 2*np.pi, steps=n_rot)\n",
    "    angles = angles.view(n_rot, 1)\n",
    "\n",
    "    data = l00[0]\n",
    "    data = data.view(data.size(0), -1)\n",
    "    data = data.repeat(n_rot, 1)\n",
    "    data = data.to(device)\n",
    "\n",
    "    output = model.encode(data, angles)\n",
    "    output = output.cpu()\n",
    "#     output = output.view(-1,1,28,28)"
   ]
  },
  {
   "cell_type": "code",
   "execution_count": 18,
   "metadata": {},
   "outputs": [],
   "source": [
    "o_np = output.numpy()"
   ]
  },
  {
   "cell_type": "code",
   "execution_count": 19,
   "metadata": {},
   "outputs": [
    {
     "data": {
      "image/png": "[encoded data removed]",
      "text/plain": [
       "<Figure size 1080x432 with 16 Axes>"
      ]
     },
     "metadata": {
      "needs_background": "light"
     },
     "output_type": "display_data"
    }
   ],
   "source": [
    "f, ax = plt.subplots(4, 4, figsize=(15, 6))\n",
    "for i in range(4): \n",
    "    for j in range(4):\n",
    "        ax[i][j].plot(o_np[:,i*4 + j])"
   ]
  },
  {
   "cell_type": "markdown",
   "metadata": {},
   "source": [
    "Each output seems to come from a $\\sin$ function"
   ]
  },
  {
   "cell_type": "code",
   "execution_count": 20,
   "metadata": {},
   "outputs": [],
   "source": [
    "with torch.no_grad():\n",
    "    dec = model.decode(output.to(device))\n",
    "    dec = dec.cpu().view(-1,1,28,28)"
   ]
  },
  {
   "cell_type": "code",
   "execution_count": 21,
   "metadata": {},
   "outputs": [],
   "source": [
    "d_np = dec.numpy()"
   ]
  },
  {
   "cell_type": "code",
   "execution_count": 22,
   "metadata": {},
   "outputs": [
    {
     "data": {
      "image/png": "[encoded data removed]",
      "text/plain": [
       "<Figure size 1080x432 with 16 Axes>"
      ]
     },
     "metadata": {
      "needs_background": "light"
     },
     "output_type": "display_data"
    }
   ],
   "source": [
    "f, ax = plt.subplots(4, 4, figsize=(15, 6))\n",
    "for i in range(4): \n",
    "    for j in range(4):\n",
    "        ax[i][j].imshow(d_np[2*(i*4 + j),0], cmap='gray')\n",
    "        ax[i][j].axis('off')"
   ]
  },
  {
   "cell_type": "code",
   "execution_count": 23,
   "metadata": {},
   "outputs": [],
   "source": [
    "torch.save(model.state_dict(), 'mnist_linear_model')"
   ]
  },
  {
   "cell_type": "code",
   "execution_count": 24,
   "metadata": {},
   "outputs": [
    {
     "data": {
      "text/plain": [
       "Net(\n",
       "  (down1): Linear(in_features=784, out_features=600, bias=True)\n",
       "  (down2): Linear(in_features=600, out_features=400, bias=True)\n",
       "  (down3): Linear(in_features=400, out_features=16, bias=True)\n",
       "  (up3): Linear(in_features=16, out_features=400, bias=True)\n",
       "  (up2): Linear(in_features=400, out_features=600, bias=True)\n",
       "  (up1): Linear(in_features=600, out_features=784, bias=True)\n",
       ")"
      ]
     },
     "execution_count": 24,
     "metadata": {},
     "output_type": "execute_result"
    }
   ],
   "source": [
    "l_model = Net(28,28, device).to(device)\n",
    "l_model.load_state_dict(torch.load('mnist_linear_model'))\n",
    "l_model.eval()"
   ]
  }
 ],
 "metadata": {
  "kernelspec": {
   "display_name": "Python 3",
   "language": "python",
   "name": "python3"
  },
  "language_info": {
   "codemirror_mode": {
    "name": "ipython",
    "version": 3
   },
   "file_extension": ".py",
   "mimetype": "text/x-python",
   "name": "python",
   "nbconvert_exporter": "python",
   "pygments_lexer": "ipython3",
   "version": "3.7.2"
  }
 },
 "nbformat": 4,
 "nbformat_minor": 2
}
